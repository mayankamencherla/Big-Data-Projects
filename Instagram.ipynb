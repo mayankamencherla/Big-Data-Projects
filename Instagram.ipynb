{
 "metadata": {
  "name": ""
 },
 "nbformat": 3,
 "nbformat_minor": 0,
 "worksheets": [
  {
   "cells": [
    {
     "cell_type": "code",
     "collapsed": false,
     "input": [
      "from instagram.client import InstagramAPI\n",
      "\n",
      "api = InstagramAPI(client_id='a6f838e6ec2a47a3a27682f7d65adefd', client_secret='84ccea57dfed4763be453f5d32ebe11d')\n"
     ],
     "language": "python",
     "metadata": {},
     "outputs": [],
     "prompt_number": "*"
    },
    {
     "cell_type": "code",
     "collapsed": false,
     "input": [
      "photos =[]"
     ],
     "language": "python",
     "metadata": {},
     "outputs": [],
     "prompt_number": 18
    },
    {
     "cell_type": "code",
     "collapsed": false,
     "input": [
      "count = 241"
     ],
     "language": "python",
     "metadata": {},
     "outputs": [],
     "prompt_number": 10
    },
    {
     "cell_type": "code",
     "collapsed": false,
     "input": [
      "for i in range(30):\n",
      "    tag_media = api.tag_recent_media(count=30,tag_name='happy')\n",
      "    photos = []\n",
      "    for i in range (30):\n",
      "        photos.append( tag_media[0][i].images['standard_resolution'].url)\n",
      "                #photos.append(media.images['standard_resolution'].url)\n",
      "                \n",
      "    import urllib\n",
      "    import os\n",
      "    path = \"/home/amenche2/Research/happy\"\n",
      "    for i in range(len(photos)):\n",
      "        os.chdir(path)\n",
      "        Num  =str('00000'+str(count))  \n",
      "        Name =str(Num+\".jpg\")  # string containing the file name\n",
      "            #url=str(\"http://www.gunnerkrigg.com//comics/\"+comicName)\n",
      "        urllib.urlretrieve(photos[i],Name)\n",
      "        count = count+1"
     ],
     "language": "python",
     "metadata": {},
     "outputs": [],
     "prompt_number": "*"
    },
    {
     "cell_type": "code",
     "collapsed": false,
     "input": [
      "from threading import Timer\n",
      "\n",
      "for i in range(2):\n",
      "    t = Timer(30.0,happy)\n",
      "    t.start()"
     ],
     "language": "python",
     "metadata": {},
     "outputs": [],
     "prompt_number": 8
    },
    {
     "cell_type": "code",
     "collapsed": false,
     "input": [
      "def sad(count): \n",
      "    tag_media = api.tag_recent_media(count=30,tag_name='sad')\n",
      "    photos = []\n",
      "    for i in range (30):\n",
      "        photos.append( tag_media[0][i].images['standard_resolution'].url)\n",
      "            #photos.append(media.images['standard_resolution'].url)\n",
      "            \n",
      "    import urllib\n",
      "    import os\n",
      "    \n",
      "    path = \"/home/amenche2/Research/sad\"\n",
      "    \n",
      "    for i in range(len(photos)):\n",
      "        os.chdir(path)\n",
      "        Num  =str('00000'+str(count))  \n",
      "        Name =str(Num+\".jpg\")  # string containing the file name\n",
      "        #url=str(\"http://www.gunnerkrigg.com//comics/\"+comicName)\n",
      "        urllib.urlretrieve(photos[i],Name)\n",
      "        count = count+1"
     ],
     "language": "python",
     "metadata": {},
     "outputs": [],
     "prompt_number": 2
    },
    {
     "cell_type": "code",
     "collapsed": false,
     "input": [
      "def awesome(count):\n",
      "    tag_media = api.tag_recent_media(count=30,tag_name='awesome')\n",
      "    photos = []\n",
      "    for i in range (30):\n",
      "        photos.append( tag_media[0][i].images['standard_resolution'].url)\n",
      "            #photos.append(media.images['standard_resolution'].url)\n",
      "            \n",
      "    import urllib\n",
      "    import os\n",
      "    \n",
      "    path = \"/home/amenche2/Research/awesome\"\n",
      "    \n",
      "    for i in range(len(photos)):\n",
      "        os.chdir(path)\n",
      "        Num  =str('00000'+str(count))  \n",
      "        Name =str(Num+\".jpg\")  # string containing the file name\n",
      "        #url=str(\"http://www.gunnerkrigg.com//comics/\"+comicName)\n",
      "        urllib.urlretrieve(photos[i],Name)\n",
      "        count = count+1\n",
      "\n",
      "def cute(count):\n",
      "    tag_media = api.tag_recent_media(count=30,tag_name='cute')\n",
      "    photos = []\n",
      "    for i in range (30):\n",
      "        photos.append( tag_media[0][i].images['standard_resolution'].url)\n",
      "            #photos.append(media.images['standard_resolution'].url)\n",
      "            \n",
      "    import urllib\n",
      "    import os\n",
      "    \n",
      "    path = \"/home/amenche2/Research/cute\"\n",
      "    \n",
      "    for i in range(len(photos)):\n",
      "        os.chdir(path)\n",
      "        Num  =str('00000'+str(count))  \n",
      "        Name =str(Num+\".jpg\")  # string containing the file name\n",
      "        #url=str(\"http://www.gunnerkrigg.com//comics/\"+comicName)\n",
      "        urllib.urlretrieve(photos[i],Name)\n",
      "        count = count+1\n",
      "def accident(count):\n",
      "    tag_media = api.tag_recent_media(count=30,tag_name='accident')\n",
      "    photos = []\n",
      "    for i in range (30):\n",
      "        photos.append( tag_media[0][i].images['standard_resolution'].url)\n",
      "            #photos.append(media.images['standard_resolution'].url)\n",
      "            \n",
      "    import urllib\n",
      "    import os\n",
      "    \n",
      "    path = \"/home/amenche2/Research/accident\"\n",
      "    \n",
      "    for i in range(len(photos)):\n",
      "        os.chdir(path)\n",
      "        Num  =str('00000'+str(count))  \n",
      "        Name =str(Num+\".jpg\")  # string containing the file name\n",
      "        #url=str(\"http://www.gunnerkrigg.com//comics/\"+comicName)\n",
      "        urllib.urlretrieve(photos[i],Name)\n",
      "        count = count+1\n",
      "def cheat(count):\n",
      "    tag_media = api.tag_recent_media(count=30,tag_name='cheat')\n",
      "    photos = []\n",
      "    for i in range (30):\n",
      "        photos.append( tag_media[0][i].images['standard_resolution'].url)\n",
      "            #photos.append(media.images['standard_resolution'].url)\n",
      "            \n",
      "    import urllib\n",
      "    import os\n",
      "    \n",
      "    path = \"/home/amenche2/Research/cheat\"\n",
      "    \n",
      "    for i in range(len(photos)):\n",
      "        os.chdir(path)\n",
      "        Num  =str('00000'+str(count))  \n",
      "        Name =str(Num+\".jpg\")  # string containing the file name\n",
      "        #url=str(\"http://www.gunnerkrigg.com//comics/\"+comicName)\n",
      "        urllib.urlretrieve(photos[i],Name)\n",
      "        count = count+1"
     ],
     "language": "python",
     "metadata": {},
     "outputs": [],
     "prompt_number": 3
    },
    {
     "cell_type": "code",
     "collapsed": false,
     "input": [
      
      
      _urlopener\u001b[0m\u001b[1;33m:\u001b[0m\u001b[1;33m\u001b[0m\u001b[0m\n\u001b[0;32m     92\u001b[0m         \u001b[0m_urlopener\u001b[0m \u001b[1;33m=\u001b[0m \u001b[0mFancyURLopener\u001b[0m\u001b[1;33m(\u001b[0m\u001b[1;33m)\u001b[0m\u001b[1;33m\u001b[0m\u001b[0m\n\u001b[1;32m---> 93\u001b[1;33m     \u001b[1;32mreturn\u001b[0m \u001b[0m_urlopener\u001b[0m\u001b[1;33m.\u001b[0m\u001b[0mretrieve\u001b[0m\u001b[1;33m(\u001b[0m\u001b[0murl\u001b[0m\u001b[1;33m,\u001b[0m \u001b[0mfilename\u001b[0m\u001b[1;33m,\u001b[0m \u001b[0mreporthook\u001b[0m\u001b[1;33m,\u001b[0m \u001b[0mdata\u001b[0m\u001b[1;33m)\u001b[0m\u001b[1;33m\u001b[0m\u001b[0m\n\u001b[0m\u001b[0;32m     94\u001b[0m \u001b[1;32mdef\u001b[0m \u001b[0murlcleanup\u001b[0m\u001b[1;33m(\u001b[0m\u001b[1;33m)\u001b[0m\u001b[1;33m:\u001b[0m\u001b[1;33m\u001b[0m\u001b[0m\n\u001b[0;32m     95\u001b[0m     \u001b[1;32mif\u001b[0m \u001b[0m_urlopener\u001b[0m\u001b[1;33m:\u001b[0m\u001b[1;33m\u001b[0m\u001b[0m\n",
        "\u001b[1;32m/software/canopy-1.0.3/appdata/canopy-1.0.3.1262.rh5-x86_64/lib/python2.7/urllib.pyc\u001b[0m in \u001b[0;36mretrieve\u001b[1;34m(self, url, filename, reporthook, data)\u001b[0m\n\u001b[0;32m    241\u001b[0m             \u001b[0mheaders\u001b[0m \u001b[1;33m=\u001b[0m \u001b[0mfp\u001b[0m\u001b[1;33m.\u001b[0m\u001b[0minfo\u001b[0m\u001b[1;33m(\u001b[0m\u001b[1;33m)\u001b[0m\u001b[1;33m\u001b[0m\u001b[0m\n\u001b[0;32m    242\u001b[0m             \u001b[1;32mif\u001b[0m \u001b[0mfilename\u001b[0m\u001b[1;33m:\u001b[0m\u001b[1;33m\u001b[0m\u001b[0m\n\u001b[1;32m--> 243\u001b[1;33m                 \u001b[0mtfp\u001b[0m \u001b[1;33m=\u001b[0m \u001b[0mopen\u001b[0m\u001b[1;33m(\u001b[0m\u001b[0mfilename\u001b[0m\u001b[1;33m,\u001b[0m \u001b[1;34m'wb'\u001b[0m\u001b[1;33m)\u001b[0m\u001b[1;33m\u001b[0m\u001b[0m\n\u001b[0m\u001b[0;32m    244\u001b[0m             \u001b[1;32melse\u001b[0m\u001b[1;33m:\u001b[0m\u001b[1;33m\u001b[0m\u001b[0m\n\u001b[0;32m    245\u001b[0m                 \u001b[1;32mimport\u001b[0m \u001b[0mtempfile\u001b[0m\u001b[1;33m\u001b[0m\u001b[0m\n",
        "\u001b[1;31mIOError\u001b[0m: [Errno 122] Disk quota exceeded: '00000151.jpg'"
       ]
      },
      {
       "output_type": "stream",
       "stream": "stdout",
       "text": [
        "The history saving thread hit an unexpected error (OperationalError('unable to open database file',)).History will not be written to the database.\n"
       ]
      }
     ],
     "prompt_number": 13
    },
    {
     "cell_type": "code",
     "collapsed": false,
     "input": [],
     "language": "python",
     "metadata": {},
     "outputs": []
    }
   ],
   "metadata": {}
  }
 ]
}
