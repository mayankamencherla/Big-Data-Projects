{
 "metadata": {
  "name": ""
 },
 "nbformat": 3,
 "nbformat_minor": 0,
 "worksheets": [
  {
   "cells": [
    {
     "cell_type": "code",
     "collapsed": false,
     "input": [
      "%pylab inline"
     ],
     "language": "python",
     "metadata": {},
     "outputs": [
      {
       "output_type": "stream",
       "stream": "stdout",
       "text": [
        "Populating the interactive namespace from numpy and matplotlib\n"
       ]
      }
     ],
     "prompt_number": 1
    },
    {
     "cell_type": "heading",
     "level": 1,
     "metadata": {},
     "source": [
      "Lab 9 - Uncertainty Propagation"
     ]
    },
    {
     "cell_type": "markdown",
     "metadata": {},
     "source": [
      "When your data have a random component, which is true for any physical measurement with noise, your analysis should exploit probability theory to make optimal estimates. This is what we explored in Lab 8 with the MAP estimator.\n",
      "\n",
      "An important thing to understand is that when your data are random, your estimate is also random, since it is based on those data. One useful statistic of your random estimate is its variance, $\\sigma^2$. Often, $\\sigma$ is referred to as the \"uncertainty\" in your estimate, which is related to the confidence interval of your estimate.\n",
      "\n",
      "----"
     ]
    },
    {
     "cell_type": "heading",
     "level": 3,
     "metadata": {},
     "source": [
      "Exercise 1: Find the uncertainty in your estimate of the epicenter"
     ]
    },
    {
     "cell_type": "markdown",
     "metadata": {},
     "source": [
      "In order to find the uncertainty in our estimate of the epicenter, we need to know 2 things: (a) the uncertainty in our measurements and (b) how this uncertainty propagates to the uncertainty in our estimate."
     ]
    },
    {
     "cell_type": "markdown",
     "metadata": {},
     "source": [
      "a) The times of arrival you used in Lab 8 were rounded to the nearest 30 seconds, since the receiver only sampled once every 30 seconds. This can be represented as a statistical uncertainty, known as quantization error. By considering the quantization error as random variable, distributed uniformly between $-\\frac{\\Delta t}{2}$ and $\\frac{\\Delta t}{2}$, it is easy to show that the variance of the quantization error, which is also the variance of the time of arrival, is given by:\n",
      "\n",
      "$$\n",
      "\\sigma_t^2 = \\frac{(\\Delta t)^2}{12}\n",
      "$$\n",
      "\n",
      "What is the uncertainty, $\\sigma_t$, in the time-of-arrival measurements, for our receivers, for which $\\Delta t = 30$ seconds?"
     ]
    },
    {
     "cell_type": "code",
     "collapsed": false,
     "input": [
      "import math\n",
      "del_t = 30\n",
      "sig = 0\n",
      "\n",
      "sig = math.pow(del_t**2 / 12,0.5)\n",
      "\n",
      "print \"The uncertainty in the signal is equal to %.3f\" %sig"
     ],
     "language": "python",
     "metadata": {},
     "outputs": [
      {
       "output_type": "stream",
       "stream": "stdout",
       "text": [
        "The uncertainty in the signal is equal to 8.660\n"
       ]
      }
     ],
     "prompt_number": 2
    },
    {
     "cell_type": "markdown",
     "metadata": {},
     "source": [
      "b) Write some code to generate the Jacobian for the forward model used in Lab 8:\n",
      "\n",
      "$ t_i = t_e + v^{-1} \\sqrt{(x_i - x_e)^2 + (y_i - y_e)^2}~~~~\\textrm{where } i = 1, 2, ..., N $\n",
      "\n",
      "where N is the number of receivers. Note that you need to know the receiver positions and the estimated epicenter location to calculate the Jacobian. You can get the receiver locations by reading from the database like in the previous labs, or you can use the file that we provide (see the example code below). It is acceptable to make the approximation that x is longitude and y is latitude. Make sure your units make sense.\n",
      "\n",
      "Recall that the Jacobian, $J$, is the matrix of partial derivatives, which in our case takes the form:\n",
      "\n",
      "$ J = \\begin{bmatrix}\n",
      "\\frac{\\partial t_1}{\\partial x_e} & \\frac{\\partial t_1}{\\partial y_e} & \\frac{\\partial t_1}{\\partial t_e} & \\frac{\\partial t_1}{\\partial v} \\\\\n",
      "\\frac{\\partial t_2}{\\partial x_e} & \\frac{\\partial t_2}{\\partial y_e} & \\frac{\\partial t_2}{\\partial t_e} & \\frac{\\partial t_2}{\\partial v} \\\\\n",
      "\\vdots &\\vdots & \\vdots & \\vdots \\\\\n",
      "\\frac{\\partial t_N}{\\partial x_e} & \\frac{\\partial t_N}{\\partial y_e} & \\frac{\\partial t_N}{\\partial t_e} & \\frac{\\partial t_N}{\\partial v} \\\\\n",
      "\\end{bmatrix}\n",
      "$\n",
      "\n",
      "where $N$ is the number of receivers."
     ]
    },
    {
     "cell_type": "code",
     "collapsed": false,
     "input": [
      "# Load receiver locations\n",
      "npzfile = load('receiver_positions.npz')\n",
      "lats = array(npzfile['lats'])\n",
      "lons = array(npzfile['lons'])\n",
      "N = len(lats)"
     ],
     "language": "python",
     "metadata": {},
     "outputs": [],
     "prompt_number": 3
    },
    {
     "cell_type": "code",
     "collapsed": false,
     "input": [
      "Lat = 38.3\n",
      "Lon = 142.4\n",
      "v = 4*60/111 #degrees/min\n",
      "te = 346 #in minutes, the time at which the earthquake happened in UTC"
     ],
     "language": "python",
     "metadata": {},
     "outputs": [],
     "prompt_number": 4
    },
    {
     "cell_type": "code",
     "collapsed": false,
     "input": [
      "J = zeros([N,4])\n",
      "#dt = 1\n",
      "#dx = (xe-xi)/v*((xe-xi)^2 + (ye-yi)^2)^1/2)\n",
      "#dy = (ye-yi)/v*((xe-xi)^2 + (ye-yi)^2)^1/2)\n",
      "#dv = (-((xe-xi)^2 + (ye-yi)^2)^1/2)/v^2\n",
      "G =0\n",
      "\n",
      "for i in range(N):\n",
      "    G = sqrt((Lat-lats[i])**2 + (Lon-lons[i])**2)\n",
      "    for j in range(4):\n",
      "        if j == 2:\n",
      "            J[i,j] = 1\n",
      "        elif j ==0:\n",
      "            J[i,j] = (Lat-lats[i])/(v*G)\n",
      "        elif j ==1:\n",
      "            J[i,j] = (Lon-lons[i])/(v*G)\n",
      "        elif j ==3:\n",
      "            J[i,j] = -G/v**2"
     ],
     "language": "python",
     "metadata": {},
     "outputs": [],
     "prompt_number": 28
    },
    {
     "cell_type": "code",
     "collapsed": false,
     "input": [
      "print J"
     ],
     "language": "python",
     "metadata": {},
     "outputs": [
      {
       "output_type": "stream",
       "stream": "stdout",
       "text": [
        "[[-0.49792233  0.04553413  1.         -1.78316724]\n",
        " [-0.49554635 -0.06658686  1.         -1.54721043]\n",
        " [-0.49723751  0.05248678  1.         -1.53296443]\n",
        " ..., \n",
        " [ 0.29275878  0.40532986  1.         -1.21961068]\n",
        " [ 0.30794981  0.39391232  1.         -1.13793135]\n",
        " [ 0.30399109  0.39697534  1.         -1.2080615 ]]\n"
       ]
      }
     ],
     "prompt_number": 29
    },
    {
     "cell_type": "markdown",
     "metadata": {},
     "source": [
      "c) Calculate the covariance matrix of your estimate, $cov(\\bar{x}) = cov([x_e, y_e, t_e, v]^T)$, using the uncertainty of your times-of-arrival, $\\sigma_t$, and the Jacobian you calculated above (See Lecture 15, Mar 20). Extract the uncertainty in the longitude and latitude of your epicenter estimate. What is the uncertainty in your estimate of the epicenter location? Please give your answer in kilometers. You may assume there are 111 km per degree to do this conversion."
     ]
    },
    {
     "cell_type": "code",
     "collapsed": false,
     "input": [
      "#Call the covariance matric Cov\n",
      "\n",
      "Cov = ((sig/60)**2)*inv(dot(J.T,J))"
     ],
     "language": "python",
     "metadata": {},
     "outputs": [],
     "prompt_number": 30
    },
    {
     "cell_type": "code",
     "collapsed": false,
     "input": [
      "print Cov"
     ],
     "language": "python",
     "metadata": {},
     "outputs": [
      {
       "output_type": "stream",
       "stream": "stdout",
       "text": [
        "[[  4.74762567e-04  -5.44979245e-04   2.10985649e-04   3.06888949e-05]\n",
        " [ -5.44979245e-04   1.28942531e-03  -4.37958196e-04  -1.03115014e-05]\n",
        " [  2.10985649e-04  -4.37958196e-04   2.24436899e-04   3.71536633e-05]\n",
        " [  3.06888949e-05  -1.03115014e-05   3.71536633e-05   2.00882378e-05]]\n"
       ]
      }
     ],
     "prompt_number": 31
    },
    {
     "cell_type": "code",
     "collapsed": false,
     "input": [
      "sig_x = sqrt(Cov[0][0])*111\n",
      "sig_y = sqrt(Cov[1][1])*111\n",
      "\n",
      "print\"The uncertainties in X and Y are %.2f and %.2f kilometers\" %(sig_x,sig_y)"
     ],
     "language": "python",
     "metadata": {},
     "outputs": [
      {
       "output_type": "stream",
       "stream": "stdout",
       "text": [
        "The uncertainties in X and Y are 2.42 and 3.99 kilometers\n"
       ]
      }
     ],
     "prompt_number": 34
    },
    {
     "cell_type": "markdown",
     "metadata": {},
     "source": [
      "d) Now consider what happens if the epicenter were in the center of Japan, in the middle of the receiver network. How does this change the uncertainty in the epicenter estimate? Explain intuitively why this makes sense."
     ]
    },
    {
     "cell_type": "code",
     "collapsed": false,
     "input": [
      "#C refers to centers\n",
      "lat_c = 35\n",
      "lon_c = 134.5\n",
      "\n",
      "#Re doing all the parts done above:\n",
      "J1 = zeros([N,4])\n",
      "#dt = 1\n",
      "#dx = (xe-xi)/v*((xe-xi)^2 + (ye-yi)^2)^1/2)\n",
      "#dy = (ye-yi)/v*((xe-xi)^2 + (ye-yi)^2)^1/2)\n",
      "#dv = (-((xe-xi)^2 + (ye-yi)^2)^1/2)/v^2\n",
      "\n",
      "for i in range(N):\n",
      "    G = sqrt((lat_c-lats[i])**2 + (lon_c-lons[i])**2)\n",
      "    for j in range(4):\n",
      "        if j == 2:\n",
      "            J1[i,j] = 1\n",
      "        elif j ==0:\n",
      "            J1[i,j] = (lat_c-lats[i])/(v*G)\n",
      "        elif j ==1:\n",
      "            J1[i,j] = (lon_c-lons[i])/(v*G)\n",
      "        elif j ==3:\n",
      "            J1[i,j] = -G/v**2\n",
      "            \n",
      "Cov1 = ((sig/60)**2)*inv(dot(J1.T,J1))\n",
      "\n",
      "sig_x1 = sqrt(Cov1[0][0])*111\n",
      "sig_y1 = sqrt(Cov1[1][1])*111\n",
      "\n",
      "print\"The uncertainties in X and Y are %.2f and %.2f kilometers\" %(sig_x1,sig_y1)"
     ],
     "language": "python",
     "metadata": {},
     "outputs": [
      {
       "output_type": "stream",
       "stream": "stdout",
       "text": [
        "The uncertainties in X and Y are 2.37 and 1.50 kilometers\n"
       ]
      }
     ],
     "prompt_number": 37
    },
    {
     "cell_type": "heading",
     "level": 1,
     "metadata": {},
     "source": [
      "This makes sense because when the epicenter is at the center of Japan, it is at the approximate means of the receiver locations. Therefore, we have a result that is less uncertain (or more certain) than the case before "
     ]
    },
    {
     "cell_type": "markdown",
     "metadata": {},
     "source": [
      "e) In the derivation of the equation for $cov(x)$, we assumed that the quantization error at each receiver was independent, so that $cov(\\bar{t}) = \\sigma_t^2 I$. Why might this not be a good assumption in this case?"
     ]
    },
    {
     "cell_type": "heading",
     "level": 1,
     "metadata": {},
     "source": [
      "This is because each receiver is sensing the same wave every 30 seconds. This means that several receivers measure the same event with the same approximate errors. This means that they are not IID."
     ]
    },
    {
     "cell_type": "markdown",
     "metadata": {},
     "source": [
      "----"
     ]
    },
    {
     "cell_type": "heading",
     "level": 3,
     "metadata": {},
     "source": [
      "Exercise 2: What sampling rate do our sensors need?"
     ]
    },
    {
     "cell_type": "markdown",
     "metadata": {},
     "source": [
      "In Exercise 1, we evaluated the uncertainty in our estimate of the epicenter, given the layout and uncertainty of the GPS sensors in Japan. In Exercises 2 and 3, we will do the reverse. We'll change the sensitivity and layout, and determine the effect this has on the measurement uncertainties. We can use this information, for example, to design better layouts, and to tradeoff between number of sensors and quality of those sensors.\n",
      "\n",
      "A big idea here is that by treating our measurements as random variables and understanding error propagation, we can perform these tradeoffs _without the data_ - all we need is a statistical description of the data, such as its variance. This is a general process that will work for an arbitrary sensor network, for any sensing modality. Of course, the Jacobian will have different forms for different applications."
     ]
    },
    {
     "cell_type": "markdown",
     "metadata": {},
     "source": [
      "a) What uncertainty, $\\sigma_t$, would our sensors need to have in order to detect the x-coordinate and y-coordinate of the epicenter to within 1 km? What sampling rate is needed to obtain this uncertainty?"
     ]
    },
    {
     "cell_type": "code",
     "collapsed": false,
     "input": [
      "#Assume a uncertainty in position of 1km in both x and y directions.\n",
      "M = inv(dot(J.T,J))\n",
      "sigx = (1/M[0][0])*(60*60)/(111**2)\n",
      "sigy = (1/M[1][1])*(60*60)/(111**2)\n",
      "\n",
      "print\"The uncertainties in Tx and Ty are %.2f and %.2f seconds\" %(sigx,sigy)\n",
      "\n",
      "del_t = sqrt(12*sigy**2)\n",
      "\n",
      "print \"The required Del-T is %.2fs\" %del_t"
     ],
     "language": "python",
     "metadata": {},
     "outputs": [
      {
       "output_type": "stream",
       "stream": "stdout",
       "text": [
        "The uncertainties in Tx and Ty are 12.82 and 4.72 seconds\n",
        "The required Del-T is 16.35s\n"
       ]
      }
     ],
     "prompt_number": 54
    },
    {
     "cell_type": "heading",
     "level": 1,
     "metadata": {},
     "source": [
      "Clearly the uncertainty = 4.72s and required sampling rate = 16.35s"
     ]
    },
    {
     "cell_type": "markdown",
     "metadata": {},
     "source": [
      "b) Now randomly (or, intelligently) choose 100 receivers out of the entire network of 1200+ receivers. If we only used these sensors to detect the epicenter, what sampling rate would each sensor need in order to detect the epicenter to within 1 km? What does this say about the tradeoff between the number of sensors and their sensitivity?"
     ]
    },
    {
     "cell_type": "code",
     "collapsed": false,
     "input": [
      "Lats = lats[0:100]\n",
      "Lons = lons[0:100]"
     ],
     "language": "python",
     "metadata": {},
     "outputs": [],
     "prompt_number": 4
    },
    {
     "cell_type": "code",
     "collapsed": false,
     "input": [
      "J1 = zeros([100,4])\n",
      "\n",
      "for i in range(100):\n",
      "    P = sqrt((Lat-Lats[i])**2 + (Lon-Lons[i])**2)\n",
      "    for j in range(4):\n",
      "        if j == 2:\n",
      "            J1[i,j] = 1\n",
      "        elif j ==0:\n",
      "            J1[i,j] = (Lat-Lats[i])/(v*P)\n",
      "        elif j ==1:\n",
      "            J1[i,j] = (Lon-Lons[i])/(v*P)\n",
      "        elif j ==3:\n",
      "            J1[i,j] = -P/v**2\n",
      "            \n",
      "M2 = inv(dot(J1.T,J1))\n",
      "           \n",
      "sigx = (1/M2[0][0])*(60*60)/(111**2)\n",
      "sigy = (1/M2[1][1])*(60*60)/(111**2)\n",
      "\n",
      "print\"The uncertainties in Tx and Ty are %.2f and %.2f seconds\" %(sigx,sigy)\n",
      "\n",
      "del_t = sqrt(12*sigy**2)\n",
      "\n",
      "print \"The required Del-T is %.2fs\" %del_t"
     ],
     "language": "python",
     "metadata": {},
     "outputs": [
      {
       "output_type": "stream",
       "stream": "stdout",
       "text": [
        "The uncertainties in Tx and Ty are 0.79 and 0.39 seconds\n",
        "The required Del-T is 1.36s\n"
       ]
      }
     ],
     "prompt_number": 7
    },
    {
     "cell_type": "heading",
     "level": 1,
     "metadata": {},
     "source": [
      "This tells me that we need much more accurate receivers to get the same accuray of within 1km"
     ]
    },
    {
     "cell_type": "markdown",
     "metadata": {},
     "source": [
      "----"
     ]
    },
    {
     "cell_type": "heading",
     "level": 3,
     "metadata": {},
     "source": [
      "Exercise 3: What sensor layout is best?"
     ]
    },
    {
     "cell_type": "markdown",
     "metadata": {},
     "source": [
      "In this exercise, you will design a sensor layout to minimize the uncertainty in the estimated epicenter location. You should optimize for an earthquake that occurs along the fault line, at 38.297\u00b0N, 142.372\u00b0E, and creates a ground wave with velocity 4 km/s. You only have 10 receivers, each with a sampling period of 30 seconds. Decide where to locate these 10 receivers to obtain the best estimate of the earthquake epicenter. For the purposes of this exercise, you can place receivers anywhere, even in the ocean. However, all receivers must be located within the box defined by:\n",
      "\n",
      "latitude $ \\in [30^\\circ, 45^\\circ] $\n",
      "\n",
      "longitude $ \\in [135^\\circ, 150^\\circ] $\n",
      "\n",
      "Provide a plot of your sensor locations, and indicate the epicenter location 38.297\u00b0N, 142.372\u00b0E on the plot. Please briefly describe your methodology for determining the sensor layout. Provide the uncertainty in the estimated x-coordinate ($\\sigma_{x_e}$) and in the y-coordinate ($\\sigma_{y_e}$) of the epicenter, as well as the combined uncertainty, $\\sqrt{\\sigma_{x_e}^2 + \\sigma_{y_e}^2}$, in units of kilometers. Please also provide some way for the grader to test your receiver positions, either with code to generate the positions, or with the receiver positions saved in a file (e.g., see the savez function to save an .npz file). If the grader cannot validate your solution, you will be ineligible for extra credit. In order for us to compare apples-to-apples, make sure you are calculating the Jacobian using x = longitude and y = latitude, and using 111 km per degree to convert your final uncertainty to km."
     ]
    },
    {
     "cell_type": "heading",
     "level": 1,
     "metadata": {},
     "source": [
      "in 30 seconds, the wave travels 120 kms, so I am going to choose 1 receiver for every 120 kms distance, or 120/111 = 1.08 degrees on either side of the epicenter (38.297,142.372)"
     ]
    },
    {
     "cell_type": "code",
     "collapsed": false,
     "input": [
      "print lats"
     ],
     "language": "python",
     "metadata": {},
     "outputs": [
      {
       "output_type": "stream",
       "stream": "stdout",
       "text": [
        "[ 45.40303024  44.4337159   44.39797929 ...,  35.44358606  35.49659406\n",
        "  35.36208053]\n"
       ]
      }
     ],
     "prompt_number": 92
    },
    {
     "cell_type": "code",
     "collapsed": false,
     "input": [
      "print Lat,Lon"
     ],
     "language": "python",
     "metadata": {},
     "outputs": [
      {
       "output_type": "stream",
       "stream": "stdout",
       "text": [
        "38.297 142.372\n"
       ]
      }
     ],
     "prompt_number": 22
    },
    {
     "cell_type": "code",
     "collapsed": false,
     "input": [
      "lat = zeros(11)\n",
      "lon = zeros(11)\n",
      "lat[10] = 38.297\n",
      "lon[10] = 142.372\n",
      "m=0\n",
      "for i in range(N):\n",
      "    D = 111*sqrt((Lat-lats[i])**2 + (Lon-lons[i])**2)\n",
      "    if m<10:\n",
      "        if (D<125 and D>120)or(D<245 and D>240)or(D<362 and D>358)or(D<482 and D>479)or(D<605 and D>595)or(D<722 and D>717):\n",
      "            lat[m] = lats[i]\n",
      "            lon[m] = lons[i]\n",
      "            m=m+1\n",
      "    \n",
      "\n",
      "import matplotlib.pyplot as plt\n",
      "\n",
      "plt.scatter(lon,lat,marker = 'o')\n",
      "plt.scatter(lon[10],lat[10],color = 'r',marker='x')\n",
      "title('The lon vs lat plot of the entire list of sensors chosen')\n",
      "\n",
      "    \n",
      "print lat\n",
      "print lon\n",
      "\n",
      "J1 = zeros([10,4])\n",
      "Lat=38.297\n",
      "Lon=142.372\n",
      "for i in range(10):\n",
      "    P = sqrt((Lat-lat[i])**2 + (Lon-lon[i])**2)\n",
      "    for j in range(4):\n",
      "        if j == 2:\n",
      "            J1[i,j] = 1\n",
      "        elif j ==0:\n",
      "            J1[i,j] = (Lat-lat[i])/(v*P)\n",
      "        elif j ==1:\n",
      "            J1[i,j] = (Lon-lon[i])/(v*P)\n",
      "        elif j ==3:\n",
      "            J1[i,j] = -P/v**2"
     ],
     "language": "python",
     "metadata": {},
     "outputs": [
      {
       "output_type": "stream",
       "stream": "stdout",
       "text": [
        "[ 42.37424085  40.77900682  36.4018536   43.05762212  41.04324107\n",
        "  39.25353412  37.08930314  36.80031446  36.63434484  36.14562665  38.297     ]\n",
        "[ 140.94240667  140.27297862  139.72642218  144.84304127  140.63589333\n",
        "  141.79804199  140.56164433  140.75391585  137.19519064  136.27893671\n",
        "  142.372     ]\n"
       ]
      },
      {
       "metadata": {},
       "output_type": "display_data",
       "png": "[encoded data removed]",
       "text": [
        "<matplotlib.figure.Figure at 0x932d320>"
       ]
      }
     ],
     "prompt_number": 85
    },
    {
     "cell_type": "code",
     "collapsed": false,
     "input": [
      "Cov1 = ((sig/60)**2)*inv(dot(J1.T,J1))\n",
      "\n",
      "sig_x1 = sqrt(Cov1[0][0])*111\n",
      "sig_y1 = sqrt(Cov1[1][1])*111\n",
      "\n",
      "Sig = sqrt(sig_x1**2 + sig_y1**2)\n",
      "\n",
      "print\"The total uncertainty is %.2f kilometers\" %Sig"
     ],
     "language": "python",
     "metadata": {},
     "outputs": [
      {
       "output_type": "stream",
       "stream": "stdout",
       "text": [
        "The total uncertainty is 40.63 kilometers\n"
       ]
      }
     ],
     "prompt_number": 86
    },
    {
     "cell_type": "markdown",
     "metadata": {},
     "source": [
      "**Extra credit** will be given to the student who designs the best sensor layout. We will judge the best layout based on who has the minimum $\\sqrt{\\sigma_{x_e}^2 + \\sigma_{y_e}^2}$. The extra credit will be an extra 20% on Lab 9, which corresponds to an extra 4% in this part of the course."
     ]
    },
    {
     "cell_type": "markdown",
     "metadata": {},
     "source": [
      "**Extra credit** of 5% on Lab 9 will also be given to any student who beats our best solution, which is $\\sqrt{\\sigma_{x_e}^2 + \\sigma_{y_e}^2} = 22.1$ km."
     ]
    }
   ],
   "metadata": {}
  }
 ]
}