{
 "metadata": {
  "name": ""
 },
 "nbformat": 3,
 "nbformat_minor": 0,
 "worksheets": [
  {
   "cells": [
    {
     "cell_type": "heading",
     "level": 1,
     "metadata": {},
     "source": [
      "Lab 12 - Rumors in a Network: Who is the Culprit?"
     ]
    },
    {
     "cell_type": "heading",
     "level": 1,
     "metadata": {},
     "source": [
      "Mayank Amencherla\n",
      "amenche2@illinois.edu"
     ]
    },
    {
     "cell_type": "heading",
     "level": 3,
     "metadata": {},
     "source": [
      "Pramdod Viswanath and Peter Kairouz"
     ]
    },
    {
     "cell_type": "markdown",
     "metadata": {},
     "source": [
      "In this lab, you will develop a simple\n",
      "**susceptible-infected** rumor spreading model and design a\n",
      "**message passing** algorithm to figure out the source of a rumor in a\n",
      "given network. The message passing algorithm is an efficient implementation\n",
      "for the maximum likelihood algorithm. A set of\n",
      "tasks is presented at the end of each section. Grading is based on the lab\n",
      "report which is due at **9 a.m. on Friday, May 1**. Your grade will be\n",
      "deducted 20 points for each day after the due date (late penalty). You may\n",
      "submit a printed report in person or an electronic report via email.\n",
      "Electronic submissions are encouraged. **Be sure to include your well\n",
      "commented code along with the report.**"
     ]
    },
    {
     "cell_type": "heading",
     "level": 2,
     "metadata": {},
     "source": [
      "Exercise 1: Susceptible-Infected Model"
     ]
    },
    {
     "cell_type": "markdown",
     "metadata": {},
     "source": [
      "Consider a network of nodes given by an undirected graph $G =\n",
      "\\left(V,E\\right)$, where $V$ is the set of nodes (vertices) and $E$ is the\n",
      "set of edges of the form $(u,v)$ for some $u$ and $v$ in $V$. If there is an\n",
      "edge between nodes $u$ and $v$, then we say $u$ and $v$ are neighbors. The\n",
      "degree of a node $v$ in $V$ is the number of nodes $v$ is connected to (the\n",
      "number of neighbors of node $v$). A graph $G$ is said to be regular if all\n",
      "its nodes have the same degree, say $d$. A graph $G$ is said to be irregular\n",
      "if it is not regular. In this lab, we will mainly consider regular trees:\n",
      "undirected, regular, and acyclic graphs with fixed degree $d$.\n",
      "\n",
      "\n",
      "The susceptible-infected (SI) model states that once a node $v$ has the rumor\n",
      "(we also say $v$ is infected), it is able to spread it to another node $u$\n",
      "(we also say infect node $u$) if and only if there is an edge between them,\n",
      "i.e. if $(v,u) \\in E$. In other words, node $v$ can only infect its\n",
      "neighboring nodes. The infection process proceeds in discrete time steps\n",
      "(iterations). Assume that $v$ gets infected at iteration $n$ and that $u$ is\n",
      "in the neighborhood of $v$, then the time it takes for $v$ to infect $u$,\n",
      "denoted by $\\tau_{vu}$, follows a geometric distribution with parameter $p$\n",
      "(typically chosen to be 0.1 or 0.2). Therefore, $u$ gets infected by $v$ at\n",
      "time $n+\\tau_{vu}$. The rumor starts at node $v^* \\in G$ at time $n=0$. We\n",
      "refer to $v^*$ as the rumor source. At time iteration $n=0$, $v^*$ can\n",
      "infect each one of its neighbors with probability $p$. Assume that at some\n",
      "iteration $n$ nodes $v_0=v^*, v_1, ..., v_{l_n}$ are infected, then each node\n",
      "$v_i$, $0 \\leq i \\leq l_n$, can infect each one of its **uninfected**\n",
      "neighbors with probability $p$. This process is repeated until $l_{n^*} \\geq\n",
      "N-1$ nodes are infected at some iteration $n^*$. If $l_{n^*}=N-1$ then we are\n",
      "done. If $l_{n^*} > N-1$ (i.e. we have a total of more than $N$ nodes\n",
      "infected), then consider the first $N$ nodes and discard the rest. The\n",
      "subgraph containing the $N$ infected nodes is denoted by $G_N$."
     ]
    },
    {
     "cell_type": "heading",
     "level": 4,
     "metadata": {},
     "source": [
      "Implementation details:"
     ]
    },
    {
     "cell_type": "markdown",
     "metadata": {},
     "source": [
      "We will now describe a space and time efficient implementation of a $d$ regular tree. Even if you are already familiar with this material you should read this section as it details the specific implementation that we are looking for.\n",
      "\n",
      "A $k$-ary tree is a rooted tree in which every node (except for the root node) has $1$ parent and no more than $k$ children. The root node has no parents. Nodes with $0$ children are called leaf nodes. If a node is neither a root node nor a leaf node, it is called an intermediate node. The depth of a node is the number of edges from the node to the tree's root node. The root node will has a depth of 0. The depth of the tree is defined as the largest depth over all nodes in a tree. Some $k$-ary trees have special names: $1$-ary trees are called lists, $2$-ary trees are called binary trees, and $3$-ary trees are called ternary trees. \n",
      "\n",
      "A full $k$-ary tree is a $k$-ary tree where all intermediate nodes have exactly $k$ children. A perfect $k$-ary tree is a full $k$-ary tree in which all leaf nodes are at the same depth. In a perfect $k$-ary tree, we have the following:\n",
      "\n",
      "1. the root node has a degree of $k$ \n",
      "2. intermediate nodes have a degree $d = k+1$\n",
      "3. leaf nodes have a degree of $1$\n",
      "\n",
      "It can be easily shown that a perfect $k$-ary tree of depth $h$ has a total of $(k^{h+1}-1)/(k-1)$ nodes out of which $k^h$ are leaf nodes. \n",
      "\n",
      "From the above discussion, it is obvious that any $k$-ary tree with finite number of nodes (i.e., finite depth $h$) cannot be a $d$ regular tree. This is because the $k^h$ leaf nodes have a degree of $1$. Thus, in order to avoid this phenomenon, we consider infinite perfect $k$-ary trees. Infinite perfect $k$-ary trees are perfect $k$-ary trees with infinite depth (i.e. no leaf nodes). Observe that in an infinite perfect $k$-ary tree, all nodes have a degree of $d$ except for the root node which has a degree of $d-1$. Even though this is a violation of the $d$ regular property, an infinite perfect $k$-ary tree is a very good approximation of a $d$ regular tree. **In what follows, we will refer to an infinite perfect $k$-ary tree as an infinite tree.**\n",
      "\n",
      "An infinite tree cannot be fully stored in memory since it requires infinite storage. However, observe that for our application, we do not need to store the entire tree, but rather we only store the infected nodes. This can be efficiently done by numbering the nodes of an infinite tree in a breadth-first order starting by $0$ for the root node and then $1, 2, ..., k$ for its children, $k+1,k+2, ..., 2k$ for the children of node $1$, and so on and so forth. Moreover, you can use the following relationships to keep track of the infected nodes: \n",
      "\n",
      "1. the parent of node $i$ (if any) is given by $\\lfloor{(i \u2013 1)/k\\rfloor}$\n",
      "2. the $j^{th}$ child of node $i$ is $ki + 1 + j$\n",
      "\n",
      "In other words, if node $i^* > 0$ was chosen to be the rumor source, it can infect its children $ki^* +1 + j$, $0 \\leq j \\leq k-1$, and its parent $\\lfloor{(i^* \u2013 1)/k\\rfloor}$. Therefore, node $i^*$ infects each of $\\{\\lfloor{(i^* \u2013 1)/k\\rfloor}, ki^* +1, ki^* +2, ..., k(i^*+1)\\}$  with probability $p$. The infected nodes are the only nodes to be stored. In order to do so, you can create a list of $N$ entries that keeps track of the indices of infected nodes."
     ]
    },
    {
     "cell_type": "heading",
     "level": 4,
     "metadata": {},
     "source": [
      "Tasks:"
     ]
    },
    {
     "cell_type": "markdown",
     "metadata": {},
     "source": [
      "Given some input parameters $d$, $p$, and $N$, use the above description of infinite perfect $k$-ary trees to implement an abstraction of a $d$ regular infinite tree and keep track of the infected nodes.\n",
      "\n",
      "1. select a node $v^*$ at random to be the rumor source\n",
      "2. spread the rumor in the graph using the susceptible-infected model described above until $N$ nodes are infected\n",
      "3. store the infected nodes in a list called $infected\\_nodes$ (a list with $N$ entries)\n",
      "\n",
      "It will be helpful for you to have a separate array (called $infected\\_neighbors$) of dimensions $N \\times d$ to **keep track of the location of infected neighbors for each infected node**. This will help you to not re-infect the already infected neighbors during later iterations. Here is how you can fill this array:\n",
      "\n",
      "1. $infected\\_neighbors(i,0)$ will refer to parent of node $infected\\_nodes(i)$ while $infected\\_neighbors(i,j)$ for $1\\leq j \\leq k=d-1$ will refer to the children of node $infected\\_nodes(i)$ (in increasing order)\n",
      "2. $infected\\_neighbors(i,j)=-1$ means the $j^{th}$ neighbor of node $infected\\_nodes(i)$ (be it a parent or a child) is not infected yet\n",
      "3. $infected\\_neighbors(i,j)= l$ means the $j^{th}$ neighbor of node $infected\\_nodes(i)$ (be it a parent or a child) is infected and located at $infected\\_nodes(l)$\n",
      "\n",
      "This array will also be useful later when you implement the message passing algorithm in Exercise 2. The outcome of Exercise 1 should include the list $infected\\_nodes$ and the array $infected\\_neighbors$."
     ]
    },
    {
     "cell_type": "code",
     "collapsed": false,
     "input": [
      "import numpy as np\n",
      "import random\n",
      "import math\n",
      "\n",
      "#using d, N as generic terms in the function\n",
      "def infection(d,N):\n",
      "    k = d-1\n",
      "    infected_nodes = []\n",
      "    uninfected_neighbors = []\n",
      "    \n",
      "    for i in range(N):\n",
      "        \n",
      "        if i ==0:\n",
      "            node = random.randint(0,N**2)                    #The first node is a random node between o and N**2\n",
      "            infected_nodes.append(node)\n",
      "        #Need to obtain the neighbors of the chosen node1\n",
      "        #parent =  (node1-1)/k\n",
      "        #children = k*node1 + 1 +j where j is less than or equal to k-1\n",
      "        ############################################################################################\n",
      "        \n",
      "        #I update uninfected_neighbors using this part of the code for iterations 1 to N-1\n",
      "        \n",
      "        if i>0:\n",
      "        #ind = 0\n",
      "            for m in range(d):\n",
      "                    #if ind<=i*(d-2)+1:\n",
      "                if m==0:\n",
      "                    parent = (node-1)/k\n",
      "                    if parent not in uninfected_neighbors and parent not in infected_nodes and parent >=0:\n",
      "                        uninfected_neighbors.append(parent)\n",
      "                            \n",
      "                else:\n",
      "                    child = k*node+m\n",
      "                    if child not in uninfected_neighbors and child not in infected_nodes:\n",
      "                        uninfected_neighbors.append(child)\n",
      "        ##############################################################################################    \n",
      "        \n",
      "            num = random.randint(0,len(uninfected_neighbors)-1)             #Choosing a random uninfected neighbor from the list created.\n",
      "            node = uninfected_neighbors[num]\n",
      "            if node not in infected_nodes:\n",
      "                uninfected_neighbors.remove(node)\n",
      "                infected_nodes.append(node)\n",
      "            \n",
      "    return infected_nodes"
     ],
     "language": "python",
     "metadata": {},
     "outputs": [],
     "prompt_number": 1
    },
    {
     "cell_type": "code",
     "collapsed": false,
     "input": [
      "def neighbors(infected_nodes,N,d):\n",
      "    k = d-1\n",
      "    infected_neighbors = np.zeros([N,d])\n",
      "    infected_neighbors[:][:] = -1\n",
      "    ####################################################################   \n",
      "    \n",
      "    #This part computes the parents and the index of the parent update the infected_neighbors array\n",
      "    \n",
      "    for i in range(N):\n",
      "        node = infected_nodes[i]\n",
      "        parent = (node-1)/k\n",
      "            \n",
      "        if parent in infected_nodes and parent >=0:\n",
      "            indp = infected_nodes.index(parent)\n",
      "            infected_neighbors[i][0] = indp\n",
      "    ######################################################################            \n",
      "    \n",
      "    #This part computes the children of the current node to get the indices of the children of the current node so that the \n",
      "    #infected neighbors array can be updated\n",
      "    \n",
      "        for m in range(1,d):\n",
      "            child = node*k + m\n",
      "            if child in infected_nodes:\n",
      "                indc = infected_nodes.index(child)                           #index of node if its infected, parent also updated.\n",
      "                infected_neighbors[i][m] = indc \n",
      "                    \n",
      "    return infected_neighbors"
     ],
     "language": "python",
     "metadata": {},
     "outputs": [],
     "prompt_number": 2
    },
    {
     "cell_type": "code",
     "collapsed": false,
     "input": [
      "d=3\n",
      "N = 3\n",
      "infected_nodes = infection(d,N)\n",
      "print infected_nodes"
     ],
     "language": "python",
     "metadata": {},
     "outputs": [
      {
       "output_type": "stream",
       "stream": "stdout",
       "text": [
        "[9, 4, 20]\n"
       ]
      }
     ],
     "prompt_number": 4
    },
    {
     "cell_type": "code",
     "collapsed": false,
     "input": [
      "infected_neighbors = neighbors(infected_nodes,N,d)\n",
      "print infected_neighbors"
     ],
     "language": "python",
     "metadata": {},
     "outputs": [
      {
       "output_type": "stream",
       "stream": "stdout",
       "text": [
        "[[ 1. -1.  2.]\n",
        " [-1.  0. -1.]\n",
        " [ 0. -1. -1.]]\n"
       ]
      }
     ],
     "prompt_number": 5
    },
    {
     "cell_type": "heading",
     "level": 1,
     "metadata": {},
     "source": [
      "Clearly, the results of the two functions yield accurate results like in the case with d=3 and N=3 as shown above."
     ]
    },
    {
     "cell_type": "markdown",
     "metadata": {},
     "source": [
      "----"
     ]
    },
    {
     "cell_type": "heading",
     "level": 2,
     "metadata": {},
     "source": [
      "Exercise 2: Rumor Centrality Message Passing Algorithm"
     ]
    },
    {
     "cell_type": "markdown",
     "metadata": {},
     "source": [
      "In this exercise, you will implement the rumor centrality message passing algorithm described in class. As discussed in class, the message passing algorithm is an efficient implementation for the maximum likelihood algorithm. \n",
      "               \n",
      "Assume you are given the outcome of Exercise 1, a list called $infected\\_nodes$ and an array called $infected\\_neighbors$. The subgraph of infected nodes has $N$ nodes out of which some are leaf nodes (with respect to the subgraph of infected nodes and not the infinite tree). Here is the pseudocode for the message passing algorithm you need to implement.\n",
      "\n",
      "1. choose a root node $v \\in G_N$ (the subgraph of infected nodes)\n",
      "2. **for** $u$ in $G_N$ **do**\n",
      "3. **if** u is a leaf node **then**\n",
      "4. $t^{up}_{u \\rightarrow \\text{parent}(u)} = 1$\n",
      "5. $p^{up}_{u \\rightarrow \\text{parent}(u)} = 1$\n",
      "6. **else** \n",
      "7. **if** $u$ is the root node $v$ **then**\n",
      "8. \n",
      "\\begin{equation}\n",
      "\\forall ~ v^{'} \\in \\text{child}(v): ~ r^{down}_{v \\rightarrow v'} = \\frac{N!}{N\\prod_{j \\in \\text{child}(v)}p^{up}_{j \\rightarrow v}}\n",
      "\\end{equation}\n",
      "\n",
      "9. **else**\n",
      "10. \n",
      "\\begin{equation}\n",
      "t^{up}_{u \\rightarrow \\text{parent}(u)} = \\sum_{j \\in \\text{child}(u)} t^{up}_{j \\rightarrow u} +1\n",
      "\\end{equation}\n",
      "\n",
      "11. \n",
      "\\begin{equation}\n",
      "p^{up}_{u \\rightarrow \\text{parent}(u)} = t^{up}_{u \\rightarrow \\text{parent}(u)} \\prod_{j \\in \\text{child}(u)} p^{up}_{j \\rightarrow u}\n",
      "\\end{equation}\n",
      "\n",
      "12. \n",
      "\\begin{equation}\n",
      "\\forall ~ u^{'} \\in \\text{child}(u): ~ r^{down}_{u \\rightarrow u'} = r^{down}_{\\text{parent}(u) \\rightarrow u}\\frac{t^{up}_{u \\rightarrow \\text{parent}(u)}}{N-t^{up}_{u \\rightarrow \\text{parent}(u)}}\n",
      "\\end{equation}\n",
      "\n",
      "13. **end if**\n",
      "14. **end if**\n",
      "15. **end for**\n",
      "\n",
      "Even though there are many possible implementations for the above message passing algorithm, we recommend the following strategy:\n",
      "\n",
      "1. sort the list $infected\\_nodes$ in decreasing order and obtain the permutation vector that sorts the list\n",
      "2. **rearrange the columns and modify the entries** of the array $infected\\_neighbors$ using the permutation vector obtained in the previous part.\n",
      "3. this sorting process ensures that the children of any node appear before the node itself in the sorted list.\n",
      "4. the sorted array $infected\\_neighbors$ will help you figure out the location of the infected parents and children of a certain infected node $u$ \n",
      "5. loop through the sorted list $infected\\_nodes$ **forward** and compute $t^{up}_{u \\rightarrow \\text{parent}(u)}$ and $p^{up}_{u \\rightarrow \\text{parent}(u)}$\n",
      "6. loop through the sorted list $infected\\_nodes$ **backwards** and compute $r^{down}_{\\text{parent}(u) \\rightarrow u}$\n",
      "\n",
      "Once you have computed the rumor centrality for each node $u \\in G_N$, the maximum likelihood estimate for the rumor source will be the node that has the largest rumor centrality.\n"
     ]
    },
    {
     "cell_type": "code",
     "collapsed": false,
     "input": [
      "def Sort_Array(infected_nodes, infected_neighbors,N):\n",
      "###############################################################################\n",
      "    #Code to sort the arrays and lists.\n",
      "    perm_vector = []\n",
      "    sorted_infected_nodes = []\n",
      "    sorted_infected_neighbors = np.zeros([N,d])\n",
      "    \n",
      "    for j in range(N):\n",
      "        node = max(infected_nodes)\n",
      "        index = infected_nodes.index(node)\n",
      "        sorted_infected_nodes.append(node)\n",
      "        infected_nodes.remove(node)\n",
      "        perm_vector.append(index)\n",
      "    \n",
      "    sorted_infected_neighbors = neighbors(sorted_infected_nodes,N,d)\n",
      "        \n",
      "    return sorted_infected_nodes, sorted_infected_neighbors"
     ],
     "language": "python",
     "metadata": {},
     "outputs": [],
     "prompt_number": 8
    },
    {
     "cell_type": "code",
     "collapsed": false,
     "input": [
      "sorted_a, sorted_b = Sort_Array(infected_nodes,infected_neighbors,3)\n",
      "print sorted_a\n",
      "print sorted_b"
     ],
     "language": "python",
     "metadata": {},
     "outputs": [
      {
       "output_type": "stream",
       "stream": "stdout",
       "text": [
        "[20, 9, 4]\n",
        "[[ 1. -1. -1.]\n",
        " [ 2. -1.  0.]\n",
        " [-1.  1. -1.]]\n"
       ]
      }
     ],
     "prompt_number": 7
    },
    {
     "cell_type": "heading",
     "level": 1,
     "metadata": {},
     "source": [
      "The sorting array has sorted the test case accurately."
     ]
    },
    {
     "cell_type": "code",
     "collapsed": false,
     "input": [
      "#To choose the random value of the first node:\n",
      "#I will be using variables T P and R for the respective iteration variables. \n",
      "\n",
      "def RCMP_Algo(infected_nodes,infected_neighbors, N,d):\n",
      "    T = np.ones([N,1])\n",
      "    P = np.ones([N,1])\n",
      "    R = np.zeros([N,1])\n",
      "    \n",
      "    v = len(infected_nodes)\n",
      "    root_node = infected_nodes[v-1]                   #The last element in the list is made to be to the parent root node\n",
      "    \n",
      "   ################################################################################     \n",
      "    \n",
      "    #A node is a leaf node if only infected_neighbors[i][0] = 1 and all other variables =-1\n",
      "    for i in range(N):\n",
      "        \n",
      "        j=1\n",
      "        #Case one - leaf node\n",
      "        for j in range(1,d):\n",
      "            if infected_neighbors[i][j]!=-1:\n",
      "                break\n",
      "                \n",
      "        if j == d-1 and infected_neighbors[i][j]==-1:\n",
      "            leaf_node = infected_nodes[i]               #Leaf nodes have a T and P value of 1. \n",
      "            #print leaf_node\n",
      "            T[i] = 1                                          #Step 4\n",
      "            P[i] = 1                                          #Step 5\n",
      "            continue\n",
      "                \n",
      "        #Case 2, root node:\n",
      "        elif infected_nodes[i] == root_node:\n",
      "            T[i] = N\n",
      "            for m in range(1,d):\n",
      "                if infected_neighbors[i][m] != -1:\n",
      "                    indc = infected_neighbors[i][m]\n",
      "                    P[i] = P[i]*P[indc]\n",
      "            P[i] = P[i]*T[i]\n",
      "                           \n",
      "        #Case 3, general node with children/parent.\n",
      "        else: \n",
      "            for m in range(1,d):\n",
      "                if infected_neighbors[i][m] != -1:\n",
      "                    indc = infected_neighbors[i][m]\n",
      "                    T[i] = T[i] + T[indc]\n",
      "                        \n",
      "                \n",
      "            for m in range(1,d):\n",
      "                if infected_neighbors[i][m] != -1:\n",
      "                    indc = infected_neighbors[i][m]\n",
      "                    P[i] = P[i]*P[indc]\n",
      "            P[i] = P[i]*T[i]\n",
      "            \n",
      "    #Traversing through the nodes to compute the maximum likelihood estimator vector R. \n",
      "    #The highest value of R will give the maximum likelooh estimate of the source of rumour.\n",
      "    \n",
      "    R[v-1] = 1/(N*P[v-1])                                       #Actually, N!/N*(P[v-1]), but since N! is a constant, I have ignored \n",
      "    R1 = R[v-1]                                                 #it for the decision rule.\n",
      "    \n",
      "    for u in range(N-1):                                           #Traversal of the tree\n",
      "        R[u] = R1*T[u]/(N-T[u])\n",
      "            \n",
      "    return T,P,R"
     ],
     "language": "python",
     "metadata": {},
     "outputs": [],
     "prompt_number": 4
    },
    {
     "cell_type": "code",
     "collapsed": false,
     "input": [
      "T,P,R = RCMP_Algo(sorted_a,sorted_b,N,d)\n",
      "\n",
      "print \"T =\\n\",T,\"\\n\"\n",
      "print \"P=\\n\",P,\"\\n\"\n",
      "print \"R=\\n\",R,\"\\n\""
     ],
     "language": "python",
     "metadata": {},
     "outputs": [
      {
       "output_type": "stream",
       "stream": "stdout",
       "text": [
        "T =\n",
        "[[ 1.]\n",
        " [ 2.]\n",
        " [ 3.]] \n",
        "\n",
        "P=\n",
        "[[ 1.]\n",
        " [ 2.]\n",
        " [ 6.]] \n",
        "\n",
        "R=\n",
        "[[ 0.02777778]\n",
        " [ 0.11111111]\n",
        " [ 0.05555556]] \n",
        "\n"
       ]
      }
     ],
     "prompt_number": 50
    },
    {
     "cell_type": "heading",
     "level": 1,
     "metadata": {},
     "source": [
      "From this we can we can say that the maximum likelihood estimate of the source of the rumour is infected_nodes[2], or in this case, node 9."
     ]
    },
    {
     "cell_type": "markdown",
     "metadata": {},
     "source": [
      "----"
     ]
    },
    {
     "cell_type": "heading",
     "level": 2,
     "metadata": {},
     "source": [
      "Exercise 3: Putting it all Together"
     ]
    },
    {
     "cell_type": "markdown",
     "metadata": {},
     "source": [
      "Combining the two previous exercises, you can generate $G_N$ and estimate the rumor source $\\hat{v}^*$ for some input parameters $d$, $p$, and $N$. The estimated rumor source $\\hat{v}^*$ can be compared to the true rumor source $v^*$ to determine whether the detection was correct or wrong. This process can be repeated $L=1,000$ times in order to compute the **average probability of error** $Pe(d,N)$ by counting the number of times we have $\\hat{v}^*\\neq v^*$ and dividing this number by $L$.\n",
      "\n",
      "In this exercise, you are required to consider $d = \\{2, 3, 4\\}$ and $N=10:10:400$ and then for each $d$ and $N$ compute $Pe(d,N)$ as described above. Finally plot $Pe(2,N)$, $Pe(3,N)$, and $Pe(4,N)$ as a function of $N$ all on the same plot. Attach the plots to your lab report. \n",
      "\n",
      "**Questions:**\n",
      "\n",
      "1. How does $Pe(d,N)$ vary as a function of $d$ for a fixed $N$?\n",
      "2. How does $Pe(d,N)$ vary as a function of $N$ for a fixed $d$?\n",
      "3. Is there any difference between the case $d=2$ and $d>2$?\n",
      "\n",
      "The above simulations will take a while (an hour at least) so make sure you run them well before the deadline."
     ]
    },
    {
     "cell_type": "heading",
     "level": 1,
     "metadata": {},
     "source": [
      "Answers:\n",
      "\n",
      "\n",
      "\n"
     ]
    },
    {
     "cell_type": "heading",
     "level": 1,
     "metadata": {},
     "source": [
      "1. Pe has a higher accuracy for higher values of d. But for d=3, the plot is very similar to that of d=2."
     ]
    },
    {
     "cell_type": "heading",
     "level": 1,
     "metadata": {},
     "source": [
      "\n",
      "2. Pe has a lower accuracy for higher values of N."
     ]
    },
    {
     "cell_type": "heading",
     "level": 1,
     "metadata": {},
     "source": [
      "3. Yes, but very small difference. The overall behavior is similar, but accuracy is slightly higher for d=3 case."
     ]
    },
    {
     "cell_type": "code",
     "collapsed": false,
     "input": [
      "L = 1000\n",
      "P1=[]\n",
      "P2=[]\n",
      "P3 =[]                                                  #initially"
     ],
     "language": "python",
     "metadata": {},
     "outputs": [],
     "prompt_number": 41
    },
    {
     "cell_type": "code",
     "collapsed": false,
     "input": [
      "d=2\n",
      "count =0\n",
      "\n",
      "#The 4 functions we are looking at are \n",
      "#infection(d,N) #neighbors(infected_neighbors,N,d) #Sort_Array(infected_nodes, infected_neighbors) \n",
      "#and #RCMP_Algo(sorted_a,sorted_b,N,d)\n",
      "\n",
      "for i in range(40):\n",
      "    count =0\n",
      "    N = int(10*(i+1))\n",
      "    print N\n",
      "    for k in range(L):\n",
      "        infected_nodes = infection(d,N)\n",
      "        root = infected_nodes[0]\n",
      "        infected_neighbors = neighbors(infected_nodes,N,d)\n",
      "        sorted_a,sorted_b = Sort_Array(infected_nodes, infected_neighbors,N)\n",
      "        T,P,R = RCMP_Algo(sorted_a,sorted_b,N,d)\n",
      "        index = R.argmax()\n",
      "        source = sorted_a[index]\n",
      "        if source == root:\n",
      "            count = count+1\n",
      "    p = float(count)/float(L)\n",
      "    P1.append(p)"
     ],
     "language": "python",
     "metadata": {},
     "outputs": [
      {
       "output_type": "stream",
       "stream": "stdout",
       "text": [
        "10\n",
        "20"
       ]
      },
      {
       "output_type": "stream",
       "stream": "stdout",
       "text": [
        "\n",
        "30"
       ]
      },
      {
       "output_type": "stream",
       "stream": "stdout",
       "text": [
        "\n",
        "40"
       ]
      },
      {
       "output_type": "stream",
       "stream": "stdout",
       "text": [
        "\n",
        "50"
       ]
      },
      {
       "output_type": "stream",
       "stream": "stdout",
       "text": [
        "\n",
        "60"
       ]
      },
      {
       "output_type": "stream",
       "stream": "stdout",
       "text": [
        "\n",
        "70"
       ]
      },
      {
       "output_type": "stream",
       "stream": "stdout",
       "text": [
        "\n",
        "80"
       ]
      },
      {
       "output_type": "stream",
       "stream": "stdout",
       "text": [
        "\n",
        "90"
       ]
      },
      {
       "output_type": "stream",
       "stream": "stdout",
       "text": [
        "\n",
        "100"
       ]
      },
      {
       "output_type": "stream",
       "stream": "stdout",
       "text": [
        "\n",
        "110"
       ]
      },
      {
       "output_type": "stream",
       "stream": "stdout",
       "text": [
        "\n",
        "120"
       ]
      },
      {
       "output_type": "stream",
       "stream": "stdout",
       "text": [
        "\n",
        "130"
       ]
      },
      {
       "output_type": "stream",
       "stream": "stdout",
       "text": [
        "\n",
        "140"
       ]
      },
      {
       "output_type": "stream",
       "stream": "stdout",
       "text": [
        "\n",
        "150"
       ]
      },
      {
       "output_type": "stream",
       "stream": "stdout",
       "text": [
        "\n",
        "160"
       ]
      },
      {
       "output_type": "stream",
       "stream": "stdout",
       "text": [
        "\n",
        "170"
       ]
      },
      {
       "output_type": "stream",
       "stream": "stdout",
       "text": [
        "\n",
        "180"
       ]
      },
      {
       "output_type": "stream",
       "stream": "stdout",
       "text": [
        "\n",
        "190"
       ]
      },
      {
       "output_type": "stream",
       "stream": "stdout",
       "text": [
        "\n",
        "200"
       ]
      },
      {
       "output_type": "stream",
       "stream": "stdout",
       "text": [
        "\n",
        "210"
       ]
      },
      {
       "output_type": "stream",
       "stream": "stdout",
       "text": [
        "\n",
        "220"
       ]
      },
      {
       "output_type": "stream",
       "stream": "stdout",
       "text": [
        "\n",
        "230"
       ]
      },
      {
       "output_type": "stream",
       "stream": "stdout",
       "text": [
        "\n",
        "240"
       ]
      },
      {
       "output_type": "stream",
       "stream": "stdout",
       "text": [
        "\n",
        "250"
       ]
      },
      {
       "output_type": "stream",
       "stream": "stdout",
       "text": [
        "\n",
        "260"
       ]
      },
      {
       "output_type": "stream",
       "stream": "stdout",
       "text": [
        "\n",
        "270"
       ]
      },
      {
       "output_type": "stream",
       "stream": "stdout",
       "text": [
        "\n",
        "280"
       ]
      },
      {
       "output_type": "stream",
       "stream": "stdout",
       "text": [
        "\n",
        "290"
       ]
      },
      {
       "output_type": "stream",
       "stream": "stdout",
       "text": [
        "\n",
        "300"
       ]
      },
      {
       "output_type": "stream",
       "stream": "stdout",
       "text": [
        "\n",
        "310"
       ]
      },
      {
       "output_type": "stream",
       "stream": "stdout",
       "text": [
        "\n",
        "320"
       ]
      },
      {
       "output_type": "stream",
       "stream": "stdout",
       "text": [
        "\n",
        "330"
       ]
      },
      {
       "output_type": "stream",
       "stream": "stdout",
       "text": [
        "\n",
        "340"
       ]
      },
      {
       "output_type": "stream",
       "stream": "stdout",
       "text": [
        "\n",
        "350"
       ]
      },
      {
       "output_type": "stream",
       "stream": "stdout",
       "text": [
        "\n",
        "360"
       ]
      },
      {
       "output_type": "stream",
       "stream": "stdout",
       "text": [
        "\n",
        "370"
       ]
      },
      {
       "output_type": "stream",
       "stream": "stdout",
       "text": [
        "\n",
        "380"
       ]
      },
      {
       "output_type": "stream",
       "stream": "stdout",
       "text": [
        "\n",
        "390"
       ]
      },
      {
       "output_type": "stream",
       "stream": "stdout",
       "text": [
        "\n",
        "400"
       ]
      },
      {
       "output_type": "stream",
       "stream": "stdout",
       "text": [
        "\n"
       ]
      }
     ],
     "prompt_number": 42
    },
    {
     "cell_type": "code",
     "collapsed": false,
     "input": [
      "d=3\n",
      "count =0\n",
      "\n",
      "#The 4 functions we are looking at are \n",
      "#infection(d,N) #neighbors(infected_neighbors,N,d) #Sort_Array(infected_nodes, infected_neighbors) \n",
      "#and #RCMP_Algo(sorted_a,sorted_b,N,d)\n",
      "\n",
      "for i in range(40):\n",
      "    count =0\n",
      "    N = int(10*(i+1))\n",
      "    print N\n",
      "    for k in range(L):\n",
      "        infected_nodes = infection(d,N)\n",
      "        root = infected_nodes[0]\n",
      "        infected_neighbors = neighbors(infected_nodes,N,d)\n",
      "        sorted_a,sorted_b = Sort_Array(infected_nodes, infected_neighbors,N)\n",
      "        T,P,R = RCMP_Algo(sorted_a,sorted_b,N,d)\n",
      "        index = R.argmax()\n",
      "        source = sorted_a[index]\n",
      "        if source == root:\n",
      "            count = count+1\n",
      "    p = float(count)/float(L)\n",
      "    P2.append(p)"
     ],
     "language": "python",
     "metadata": {},
     "outputs": [
      {
       "output_type": "stream",
       "stream": "stdout",
       "text": [
        "10\n",
        "20"
       ]
      },
      {
       "output_type": "stream",
       "stream": "stdout",
       "text": [
        "\n",
        "30"
       ]
      },
      {
       "output_type": "stream",
       "stream": "stdout",
       "text": [
        "\n",
        "40"
       ]
      },
      {
       "output_type": "stream",
       "stream": "stdout",
       "text": [
        "\n",
        "50"
       ]
      },
      {
       "output_type": "stream",
       "stream": "stdout",
       "text": [
        "\n",
        "60"
       ]
      },
      {
       "output_type": "stream",
       "stream": "stdout",
       "text": [
        "\n",
        "70"
       ]
      },
      {
       "output_type": "stream",
       "stream": "stdout",
       "text": [
        "\n",
        "80"
       ]
      },
      {
       "output_type": "stream",
       "stream": "stdout",
       "text": [
        "\n",
        "90"
       ]
      },
      {
       "output_type": "stream",
       "stream": "stdout",
       "text": [
        "\n",
        "100"
       ]
      },
      {
       "output_type": "stream",
       "stream": "stdout",
       "text": [
        "\n",
        "110"
       ]
      },
      {
       "output_type": "stream",
       "stream": "stdout",
       "text": [
        "\n",
        "120"
       ]
      },
      {
       "output_type": "stream",
       "stream": "stdout",
       "text": [
        "\n",
        "130"
       ]
      },
      {
       "output_type": "stream",
       "stream": "stdout",
       "text": [
        "\n",
        "140"
       ]
      },
      {
       "output_type": "stream",
       "stream": "stdout",
       "text": [
        "\n",
        "150"
       ]
      },
      {
       "output_type": "stream",
       "stream": "stdout",
       "text": [
        "\n",
        "160"
       ]
      },
      {
       "output_type": "stream",
       "stream": "stdout",
       "text": [
        "\n",
        "170"
       ]
      },
      {
       "output_type": "stream",
       "stream": "stdout",
       "text": [
        "\n",
        "180"
       ]
      },
      {
       "output_type": "stream",
       "stream": "stdout",
       "text": [
        "\n",
        "190"
       ]
      },
      {
       "output_type": "stream",
       "stream": "stdout",
       "text": [
        "\n",
        "200"
       ]
      },
      {
       "output_type": "stream",
       "stream": "stdout",
       "text": [
        "\n",
        "210"
       ]
      },
      {
       "output_type": "stream",
       "stream": "stdout",
       "text": [
        "\n",
        "220"
       ]
      },
      {
       "output_type": "stream",
       "stream": "stdout",
       "text": [
        "\n",
        "230"
       ]
      },
      {
       "output_type": "stream",
       "stream": "stdout",
       "text": [
        "\n",
        "240"
       ]
      },
      {
       "output_type": "stream",
       "stream": "stdout",
       "text": [
        "\n",
        "250"
       ]
      },
      {
       "output_type": "stream",
       "stream": "stdout",
       "text": [
        "\n",
        "260"
       ]
      },
      {
       "output_type": "stream",
       "stream": "stdout",
       "text": [
        "\n",
        "270"
       ]
      },
      {
       "output_type": "stream",
       "stream": "stdout",
       "text": [
        "\n",
        "280"
       ]
      },
      {
       "output_type": "stream",
       "stream": "stdout",
       "text": [
        "\n",
        "290"
       ]
      },
      {
       "output_type": "stream",
       "stream": "stdout",
       "text": [
        "\n",
        "300"
       ]
      },
      {
       "output_type": "stream",
       "stream": "stdout",
       "text": [
        "\n",
        "310"
       ]
      },
      {
       "output_type": "stream",
       "stream": "stdout",
       "text": [
        "\n",
        "320"
       ]
      },
      {
       "output_type": "stream",
       "stream": "stdout",
       "text": [
        "\n",
        "330"
       ]
      },
      {
       "output_type": "stream",
       "stream": "stdout",
       "text": [
        "\n",
        "340"
       ]
      },
      {
       "output_type": "stream",
       "stream": "stdout",
       "text": [
        "\n",
        "350"
       ]
      },
      {
       "output_type": "stream",
       "stream": "stdout",
       "text": [
        "\n",
        "360"
       ]
      },
      {
       "output_type": "stream",
       "stream": "stdout",
       "text": [
        "\n",
        "370"
       ]
      },
      {
       "output_type": "stream",
       "stream": "stdout",
       "text": [
        "\n",
        "380"
       ]
      },
      {
       "output_type": "stream",
       "stream": "stdout",
       "text": [
        "\n",
        "390"
       ]
      },
      {
       "output_type": "stream",
       "stream": "stdout",
       "text": [
        "\n",
        "400"
       ]
      },
      {
       "output_type": "stream",
       "stream": "stdout",
       "text": [
        "\n"
       ]
      }
     ],
     "prompt_number": 43
    },
    {
     "cell_type": "code",
     "collapsed": false,
     "input": [
      "d=4\n",
      "count =0\n",
      "\n",
      "#The 4 functions we are looking at are \n",
      "#infection(d,N) #neighbors(infected_neighbors,N,d) #Sort_Array(infected_nodes, infected_neighbors) \n",
      "#and #RCMP_Algo(sorted_a,sorted_b,N,d)\n",
      "\n",
      "for i in range(40):\n",
      "    count =0\n",
      "    N = int(10*(i+1))\n",
      "    print N\n",
      "    for k in range(L):\n",
      "        infected_nodes = infection(d,N)\n",
      "        root = infected_nodes[0]\n",
      "        infected_neighbors = neighbors(infected_nodes,N,d)\n",
      "        sorted_a,sorted_b = Sort_Array(infected_nodes, infected_neighbors,N)\n",
      "        T,P,R = RCMP_Algo(sorted_a,sorted_b,N,d)\n",
      "        index = R.argmax()\n",
      "        source = sorted_a[index]\n",
      "        if source == root:\n",
      "            count = count+1\n",
      "    p = float(count)/float(L)\n",
      "    P3.append(p)"
     ],
     "language": "python",
     "metadata": {},
     "outputs": [
      {
       "output_type": "stream",
       "stream": "stdout",
       "text": [
        "10\n",
        "20"
       ]
      },
      {
       "output_type": "stream",
       "stream": "stdout",
       "text": [
        "\n",
        "30"
       ]
      },
      {
       "output_type": "stream",
       "stream": "stdout",
       "text": [
        "\n",
        "40"
       ]
      },
      {
       "output_type": "stream",
       "stream": "stdout",
       "text": [
        "\n",
        "50"
       ]
      },
      {
       "output_type": "stream",
       "stream": "stdout",
       "text": [
        "\n",
        "60"
       ]
      },
      {
       "output_type": "stream",
       "stream": "stdout",
       "text": [
        "\n",
        "70"
       ]
      },
      {
       "output_type": "stream",
       "stream": "stdout",
       "text": [
        "\n",
        "80"
       ]
      },
      {
       "output_type": "stream",
       "stream": "stdout",
       "text": [
        "\n",
        "90"
       ]
      },
      {
       "output_type": "stream",
       "stream": "stdout",
       "text": [
        "\n",
        "100"
       ]
      },
      {
       "output_type": "stream",
       "stream": "stdout",
       "text": [
        "\n",
        "110"
       ]
      },
      {
       "output_type": "stream",
       "stream": "stdout",
       "text": [
        "\n",
        "120"
       ]
      },
      {
       "output_type": "stream",
       "stream": "stdout",
       "text": [
        "\n",
        "130"
       ]
      },
      {
       "output_type": "stream",
       "stream": "stdout",
       "text": [
        "\n",
        "140"
       ]
      },
      {
       "output_type": "stream",
       "stream": "stdout",
       "text": [
        "\n",
        "150"
       ]
      },
      {
       "output_type": "stream",
       "stream": "stdout",
       "text": [
        "\n",
        "160"
       ]
      },
      {
       "output_type": "stream",
       "stream": "stdout",
       "text": [
        "\n",
        "170"
       ]
      },
      {
       "output_type": "stream",
       "stream": "stdout",
       "text": [
        "\n",
        "180"
       ]
      },
      {
       "output_type": "stream",
       "stream": "stdout",
       "text": [
        "\n",
        "190"
       ]
      },
      {
       "output_type": "stream",
       "stream": "stdout",
       "text": [
        "\n",
        "200"
       ]
      },
      {
       "output_type": "stream",
       "stream": "stdout",
       "text": [
        "\n",
        "210"
       ]
      },
      {
       "output_type": "stream",
       "stream": "stdout",
       "text": [
        "\n",
        "220"
       ]
      },
      {
       "output_type": "stream",
       "stream": "stdout",
       "text": [
        "\n",
        "230"
       ]
      },
      {
       "output_type": "stream",
       "stream": "stdout",
       "text": [
        "\n",
        "240"
       ]
      },
      {
       "output_type": "stream",
       "stream": "stdout",
       "text": [
        "\n",
        "250"
       ]
      },
      {
       "output_type": "stream",
       "stream": "stdout",
       "text": [
        "\n",
        "260"
       ]
      },
      {
       "output_type": "stream",
       "stream": "stdout",
       "text": [
        "\n",
        "270"
       ]
      },
      {
       "output_type": "stream",
       "stream": "stdout",
       "text": [
        "\n",
        "280"
       ]
      },
      {
       "output_type": "stream",
       "stream": "stdout",
       "text": [
        "\n",
        "290"
       ]
      },
      {
       "output_type": "stream",
       "stream": "stdout",
       "text": [
        "\n",
        "300"
       ]
      },
      {
       "output_type": "stream",
       "stream": "stdout",
       "text": [
        "\n",
        "310"
       ]
      },
      {
       "output_type": "stream",
       "stream": "stdout",
       "text": [
        "\n",
        "320"
       ]
      },
      {
       "output_type": "stream",
       "stream": "stdout",
       "text": [
        "\n",
        "330"
       ]
      },
      {
       "output_type": "stream",
       "stream": "stdout",
       "text": [
        "\n",
        "340"
       ]
      },
      {
       "output_type": "stream",
       "stream": "stdout",
       "text": [
        "\n",
        "350"
       ]
      },
      {
       "output_type": "stream",
       "stream": "stdout",
       "text": [
        "\n",
        "360"
       ]
      },
      {
       "output_type": "stream",
       "stream": "stdout",
       "text": [
        "\n",
        "370"
       ]
      },
      {
       "output_type": "stream",
       "stream": "stdout",
       "text": [
        "\n",
        "380"
       ]
      },
      {
       "output_type": "stream",
       "stream": "stdout",
       "text": [
        "\n",
        "390"
       ]
      },
      {
       "output_type": "stream",
       "stream": "stdout",
       "text": [
        "\n",
        "400"
       ]
      },
      {
       "output_type": "stream",
       "stream": "stdout",
       "text": [
        "\n"
       ]
      }
     ],
     "prompt_number": 44
    },
    {
     "cell_type": "code",
     "collapsed": false,
     "input": [
      "import matplotlib.pyplot as plt\n",
      "\n",
      "N = np.linspace(10,400,40)\n",
      "\n",
      "plt.figure()\n",
      "plt.subplot(311)\n",
      "plt.plot(N,P1)\n",
      "plt.title('Probability as a function of N for d=2')\n",
      "\n",
      "plt.subplot(312)\n",
      "plt.plot(N,P2)\n",
      "plt.title('Probability as a function of N for d=3')\n",
      "\n",
      "plt.subplot(313)\n",
      "plt.plot(N,P3)\n",
      "plt.title('Probability as a function of N for d=4')\n",
      "plt.show()\n"
     ],
     "language": "python",
     "metadata": {},
     "outputs": [],
     "prompt_number": 45
    },
    {
     "cell_type": "markdown",
     "metadata": {},
     "source": [
      "----"
     ]
    }
   ],
   "metadata": {}
  }
 ]
}
